{
 "cells": [
  {
   "cell_type": "code",
   "execution_count": 27,
   "metadata": {},
   "outputs": [],
   "source": [
    "import os \n",
    "import json\n",
    "import pandas as pd \n",
    "import traceback"
   ]
  },
  {
   "cell_type": "code",
   "execution_count": 28,
   "metadata": {},
   "outputs": [],
   "source": [
    "from langchain.chat_models import ChatOpenAI\n"
   ]
  },
  {
   "cell_type": "code",
   "execution_count": 29,
   "metadata": {},
   "outputs": [],
   "source": [
    "from dotenv import load_dotenv\n",
    "load_dotenv()\n",
    "KEY=os.getenv('OPENAI_API_KEY')"
   ]
  },
  {
   "cell_type": "code",
   "execution_count": 30,
   "metadata": {},
   "outputs": [],
   "source": [
    "llm=ChatOpenAI(openai_api_key=KEY,model_name='gpt-3.5-turbo',temperature =0.3)\n"
   ]
  },
  {
   "cell_type": "code",
   "execution_count": 31,
   "metadata": {},
   "outputs": [
    {
     "data": {
      "text/plain": [
       "ChatOpenAI(client=<openai.resources.chat.completions.Completions object at 0x77d05b81c970>, async_client=<openai.resources.chat.completions.AsyncCompletions object at 0x77d05b81c3a0>, temperature=0.3, openai_api_key='asuhhskhfkdnvxvcbdfjhvxjhvb', openai_proxy='')"
      ]
     },
     "execution_count": 31,
     "metadata": {},
     "output_type": "execute_result"
    }
   ],
   "source": [
    "llm"
   ]
  },
  {
   "cell_type": "code",
   "execution_count": 32,
   "metadata": {},
   "outputs": [],
   "source": [
    "from langchain.llms import OpenAI\n",
    "from langchain.chat_models import ChatOpenAI\n",
    "from langchain.prompts import PromptTemplate\n",
    "from langchain.chains import LLMChain\n",
    "from langchain.chains import SequentialChain\n",
    "from langchain.callbacks import get_openai_callback\n",
    "import PyPDF2"
   ]
  },
  {
   "cell_type": "code",
   "execution_count": 33,
   "metadata": {},
   "outputs": [],
   "source": [
    "Response_json={\n",
    "    '1':{\n",
    "        'mcq':'multiple choice question',\n",
    "        'options' : {\n",
    "             'a':'choice here',\n",
    "             'b':'choice here',\n",
    "             'c':'choice here',\n",
    "             'd':'choice here',\n",
    "          },\n",
    "          'correct':'correct answer',\n",
    "    },\n",
    "    '2':{\n",
    "        'mcq':'multiple choice question',\n",
    "        'options' : {\n",
    "             'a':'choice here',\n",
    "             'b':'choice here',\n",
    "             'c':'choice here',\n",
    "             'd':'choice here',\n",
    "          },\n",
    "          'correct':'correct answer',\n",
    "    },\n",
    "    '3':{\n",
    "        'mcq':'multiple choice question',\n",
    "        'options' : {\n",
    "             'a':'choice here',\n",
    "             'b':'choice here',\n",
    "             'c':'choice here',\n",
    "             'd':'choice here',\n",
    "          },\n",
    "          'correct':'correct answer',\n",
    "    },\n",
    "}"
   ]
  },
  {
   "cell_type": "code",
   "execution_count": 34,
   "metadata": {},
   "outputs": [],
   "source": [
    "TEMPLATE=\"\"\"\"\n",
    "Text:{text}\n",
    "You are expert in Multiple choice questions ,Given the above text,it is your task to \\\n",
    "create  a quiz  of {number} multiple choice questions for {subject} students in {tone} tone.\n",
    "Make sure the  questions are not repeated and check all the  questions to be confirming  the text as well.\n",
    "Make sure to format your response like RESPONSE_JSON below  use it as a guide . \\\n",
    "Ensure to make {number} MCQ's\n",
    "##Response json\n",
    "{response_json}\n",
    "\n",
    "\"\"\""
   ]
  },
  {
   "cell_type": "code",
   "execution_count": 35,
   "metadata": {},
   "outputs": [],
   "source": [
    "quiz_generation_prompt=PromptTemplate(\n",
    " input_variables=['text','number','subject','tone','respose_json'],\n",
    " template=TEMPLATE\n",
    ")"
   ]
  },
  {
   "cell_type": "code",
   "execution_count": 36,
   "metadata": {},
   "outputs": [],
   "source": [
    "quiz_chain=LLMChain(llm=llm,prompt=quiz_generation_prompt,output_key='quiz',verbose=True)"
   ]
  },
  {
   "cell_type": "code",
   "execution_count": 37,
   "metadata": {},
   "outputs": [],
   "source": [
    "TEMPLATE2=\"\"\" \n",
    "you are an expert  english grammarian and writer .Given a Multiple Choice Quiz for {subject} students,\n",
    "you need to evaluate the complexity of the question and give  a complete analysis of the quiz .Only use at max 50 words for complexity \\\n",
    "if the quiz is not at per with the cognitive and analytical abilities of the students,\\\n",
    "update the quiz questions which needs to be changed and change the tone such that it perfectly fits the student abilities\n",
    "Quiz_MCQs:\n",
    "{quiz} \n",
    "Check from an expert English Writer of the above quiz:\n",
    "\"\"\""
   ]
  },
  {
   "cell_type": "code",
   "execution_count": 38,
   "metadata": {},
   "outputs": [],
   "source": [
    "quiz_evaluation_prompt=PromptTemplate(input_variables=['subject','quiz'],template=TEMPLATE2)"
   ]
  },
  {
   "cell_type": "code",
   "execution_count": 39,
   "metadata": {},
   "outputs": [],
   "source": [
    "review_chain=LLMChain(llm=llm,prompt=quiz_evaluation_prompt,output_key='review',verbose=True )"
   ]
  },
  {
   "cell_type": "code",
   "execution_count": null,
   "metadata": {},
   "outputs": [],
   "source": [
    "generate_evaluate_chain=SequentialChain(chains=[quiz_chain,review_chain],input_variables=['text','number','subject','tone','respose_json'],output_variables=['quiz','review'],verbose=True)"
   ]
  },
  {
   "cell_type": "code",
   "execution_count": null,
   "metadata": {},
   "outputs": [],
   "source": [
    "file_path='/home/mukesh/Github-my repos/Document-to-MCQ-Generator/data.txt'"
   ]
  },
  {
   "cell_type": "code",
   "execution_count": null,
   "metadata": {},
   "outputs": [],
   "source": [
    "with open(file_path,'r') as file  :\n",
    "    TEXT=file.read()"
   ]
  },
  {
   "cell_type": "code",
   "execution_count": null,
   "metadata": {},
   "outputs": [],
   "source": [
    "#serialize the python dictionary\n",
    "json.dumps(Response_json)"
   ]
  },
  {
   "cell_type": "code",
   "execution_count": null,
   "metadata": {},
   "outputs": [],
   "source": [
    "NUMBER=7\n",
    "SUBJECT='Deep Learning'\n",
    "TONE='Simple'"
   ]
  },
  {
   "cell_type": "code",
   "execution_count": null,
   "metadata": {},
   "outputs": [],
   "source": [
    "#how to setup token usage tracking in langchain\n",
    "\n",
    "with get_openai_callback() as cb :\n",
    "    response=generate_evaluate_chain(\n",
    "        {\n",
    "            'text': TEXT,\n",
    "            'number':NUMBER,\n",
    "            'subject':SUBJECT,\n",
    "            'tone': TONE,\n",
    "            'response_json':json.dumps('response_json')\n",
    "        }\n",
    "    )"
   ]
  },
  {
   "cell_type": "code",
   "execution_count": null,
   "metadata": {},
   "outputs": [],
   "source": [
    "print(f'Total Tokens:{cb.total_tokens}')\n",
    "print(f'Prompt Tokens:{cb.prompt_tokens}')\n",
    "print(f'Completion Tokens:{cb.completion_tokens}')\n",
    "print(f'total cost:{cb.total_cost}')"
   ]
  }
 ],
 "metadata": {
  "kernelspec": {
   "display_name": "venv",
   "language": "python",
   "name": "python3"
  },
  "language_info": {
   "codemirror_mode": {
    "name": "ipython",
    "version": 3
   },
   "file_extension": ".py",
   "mimetype": "text/x-python",
   "name": "python",
   "nbconvert_exporter": "python",
   "pygments_lexer": "ipython3",
   "version": "3.10.12"
  }
 },
 "nbformat": 4,
 "nbformat_minor": 2
}
