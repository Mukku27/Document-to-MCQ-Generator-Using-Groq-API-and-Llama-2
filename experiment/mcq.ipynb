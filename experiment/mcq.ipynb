{
 "cells": [
  {
   "cell_type": "markdown",
   "metadata": {},
   "source": [
    "### Import Libraries and Load Environment Variables"
   ]
  },
  {
   "cell_type": "code",
   "execution_count": 1,
   "metadata": {},
   "outputs": [],
   "source": [
    "import os\n",
    "import json\n",
    "import pandas as pd\n",
    "import traceback\n",
    "import re\n",
    "from dotenv import load_dotenv\n",
    "from langchain_core.prompts import ChatPromptTemplate\n",
    "from langchain_groq import ChatGroq\n",
    "\n",
    "# Load environment variables\n",
    "load_dotenv()\n",
    "KEY = os.getenv('GROQ_API_KEY')\n"
   ]
  },
  {
   "cell_type": "markdown",
   "metadata": {},
   "source": [
    "### Initialize ChatGroq"
   ]
  },
  {
   "cell_type": "code",
   "execution_count": 2,
   "metadata": {},
   "outputs": [],
   "source": [
    "# Initialize ChatGroq\n",
    "chat = ChatGroq(\n",
    "    api_key=KEY,\n",
    "    model=\"llama3-70b-8192\",\n",
    "    temperature=0.3\n",
    ")\n"
   ]
  },
  {
   "cell_type": "markdown",
   "metadata": {},
   "source": [
    "### Define the Response JSON Structure Function"
   ]
  },
  {
   "cell_type": "code",
   "execution_count": 6,
   "metadata": {},
   "outputs": [],
   "source": [
    "# Define the response JSON structure\n",
    "def generate_response_json(num_questions):\n",
    "    return {\n",
    "        str(i): {\n",
    "            'mcq': 'multiple choice question',\n",
    "            'options': {\n",
    "                'a': 'choice here',\n",
    "                'b': 'choice here',\n",
    "                'c': 'choice here',\n",
    "                'd': 'choice here',\n",
    "            },\n",
    "            'correct': 'correct answer',\n",
    "        } for i in range(1, num_questions + 1)\n",
    "    }\n"
   ]
  },
  {
   "cell_type": "markdown",
   "metadata": {},
   "source": [
    "### Create the Prompt Template"
   ]
  },
  {
   "cell_type": "code",
   "execution_count": 7,
   "metadata": {},
   "outputs": [],
   "source": [
    "# Create the prompt template\n",
    "system_message = \"You are a helpful assistant.\"\n",
    "human_message = \"\"\"\n",
    "you are expert in {subject}\n",
    "Create a quiz with the following specifications:\n",
    "- Subject: {subject}\n",
    "- Tone: {tone}\n",
    "- Number of questions: {num_questions}\n",
    "- Based on the following text: {text}\n",
    "- Format the response as JSON with the following structure:\n",
    "{{\n",
    "  \"quiz\": {{\n",
    "    \"title\": \"Quiz Title\",\n",
    "    \"questions\": [\n",
    "      {{\n",
    "        \"question\": \"Question text\",\n",
    "        \"options\": [\"Option A\", \"Option B\", \"Option C\", \"Option D\"],\n",
    "        \"correct\": \"Correct option\"\n",
    "      }},\n",
    "      ...\n",
    "    ]\n",
    "  }}\n",
    "}}\n",
    "\"\"\"\n",
    "\n",
    "prompt = ChatPromptTemplate.from_messages([(\"system\", system_message), (\"human\", human_message)])\n"
   ]
  },
  {
   "cell_type": "markdown",
   "metadata": {},
   "source": [
    "### Chain the Prompt with ChatGroq"
   ]
  },
  {
   "cell_type": "code",
   "execution_count": 8,
   "metadata": {},
   "outputs": [],
   "source": [
    "# Chain the prompt with ChatGroq\n",
    "chain = prompt | chat\n"
   ]
  },
  {
   "cell_type": "markdown",
   "metadata": {},
   "source": [
    "### Define Input Variables"
   ]
  },
  {
   "cell_type": "code",
   "execution_count": 9,
   "metadata": {},
   "outputs": [],
   "source": [
    "# Define input variables\n",
    "SUBJECT = \"Deep Learning\"\n",
    "TONE = \"Educational\"\n",
    "NUMBER_OF_QUESTIONS = 7  # You can change this to any desired number\n",
    "\n",
    "\n",
    "TEXT = \"\"\"Deep learning is a subset of machine learning that uses neural networks\n",
    "with multiple layers to model and understand complex patterns in data. By \n",
    "leveraging large datasets and powerful computational resources, deep learning \n",
    "algorithms can automatically learn to perform tasks such as image and speech \n",
    "recognition, natural language processing, and game playing. These neural \n",
    "networks, often termed as deep neural networks (DNNs), consist of \n",
    "interconnected nodes, or neurons, that process data in a hierarchical manner.\n",
    "Each layer of the network extracts higher-level features from the raw input,\n",
    "enabling the model to make more accurate predictions. Key architectures\n",
    "in deep learning include Convolutional Neural Networks (CNNs) for \n",
    "image tasks and Recurrent Neural Networks (RNNs) for sequential data.\n",
    "\"\"\"\n"
   ]
  },
  {
   "cell_type": "markdown",
   "metadata": {},
   "source": [
    "### Invoke the Chain"
   ]
  },
  {
   "cell_type": "code",
   "execution_count": 10,
   "metadata": {},
   "outputs": [],
   "source": [
    "# Invoke the chain\n",
    "response = chain.invoke({\n",
    "    'subject': SUBJECT,\n",
    "    'tone': TONE,\n",
    "    'num_questions': NUMBER_OF_QUESTIONS,\n",
    "    'text': TEXT\n",
    "})\n"
   ]
  },
  {
   "cell_type": "markdown",
   "metadata": {},
   "source": [
    "### Print Token Usage and Cost"
   ]
  },
  {
   "cell_type": "code",
   "execution_count": 11,
   "metadata": {},
   "outputs": [
    {
     "name": "stdout",
     "output_type": "stream",
     "text": [
      "Total Tokens: 779\n",
      "Prompt Tokens: 296\n",
      "Completion Tokens: 483\n",
      "Total cost: N/A\n"
     ]
    }
   ],
   "source": [
    "# Print token usage and cost\n",
    "response_metadata = response.response_metadata\n",
    "print(f\"Total Tokens: {response_metadata['token_usage']['total_tokens']}\")\n",
    "print(f\"Prompt Tokens: {response_metadata['token_usage']['prompt_tokens']}\")\n",
    "print(f\"Completion Tokens: {response_metadata['token_usage']['completion_tokens']}\")\n",
    "print(f\"Total cost: {response_metadata.get('total_cost', 'N/A')}\")\n"
   ]
  },
  {
   "cell_type": "markdown",
   "metadata": {},
   "source": [
    "### Process the Quiz Response"
   ]
  },
  {
   "cell_type": "code",
   "execution_count": 12,
   "metadata": {},
   "outputs": [
    {
     "name": "stdout",
     "output_type": "stream",
     "text": [
      "Raw response:\n",
      "Here is the quiz in JSON format:\n",
      "\n",
      "```\n",
      "{\n",
      "  \"quiz\": {\n",
      "    \"title\": \"Deep Learning Fundamentals\",\n",
      "    \"questions\": [\n",
      "      {\n",
      "        \"question\": \"What is deep learning a subset of?\",\n",
      "        \"options\": [\"Artificial Intelligence\", \"Machine Learning\", \"Neural Networks\", \"Computer Vision\"],\n",
      "        \"correct\": \"Machine Learning\"\n",
      "      },\n",
      "      {\n",
      "        \"question\": \"What is the primary function of each layer in a deep neural network?\",\n",
      "        \"options\": [\"To extract raw input features\", \"To make predictions\", \"To extract higher-level features from the raw input\", \"To process data in a linear manner\"],\n",
      "        \"correct\": \"To extract higher-level features from the raw input\"\n",
      "      },\n",
      "      {\n",
      "        \"question\": \"What type of neural network is commonly used for image tasks?\",\n",
      "        \"options\": [\"Recurrent Neural Networks (RNNs)\", \"Convolutional Neural Networks (CNNs)\", \"Deep Neural Networks (DNNs)\", \"Feedforward Neural Networks\"],\n",
      "        \"correct\": \"Convolutional Neural Networks (CNNs)\"\n",
      "      },\n",
      "      {\n",
      "        \"question\": \"What is the term used to describe the interconnected nodes in a neural network?\",\n",
      "        \"options\": [\"Neurons\", \"Nodes\", \"Connections\", \"Layers\"],\n",
      "        \"correct\": \"Neurons\"\n",
      "      },\n",
      "      {\n",
      "        \"question\": \"What type of data is typically processed by Recurrent Neural Networks (RNNs)?\",\n",
      "        \"options\": [\"Image data\", \"Sequential data\", \"Audio data\", \"Text data\"],\n",
      "        \"correct\": \"Sequential data\"\n",
      "      },\n",
      "      {\n",
      "        \"question\": \"What enables deep learning algorithms to automatically learn to perform tasks?\",\n",
      "        \"options\": [\"Large datasets and powerful computational resources\", \"Small datasets and simple computational resources\", \"Manual feature engineering\", \"Rule-based systems\"],\n",
      "        \"correct\": \"Large datasets and powerful computational resources\"\n",
      "      },\n",
      "      {\n",
      "        \"question\": \"What is the primary advantage of using deep learning algorithms?\",\n",
      "        \"options\": [\"They are simple to implement\", \"They require minimal data\", \"They can automatically learn to perform tasks\", \"They are only used for image recognition\"],\n",
      "        \"correct\": \"They can automatically learn to perform tasks\"\n",
      "      }\n",
      "    ]\n",
      "  }\n",
      "}\n",
      "```\n",
      "\n",
      "I hope this quiz helps students assess their understanding of deep learning fundamentals!\n"
     ]
    }
   ],
   "source": [
    "# Process the quiz response\n",
    "quiz = response.content\n",
    "print(\"Raw response:\")\n",
    "print(quiz)\n"
   ]
  },
  {
   "cell_type": "markdown",
   "metadata": {},
   "source": [
    "### Try to Parse the JSON Response"
   ]
  },
  {
   "cell_type": "code",
   "execution_count": 13,
   "metadata": {},
   "outputs": [],
   "source": [
    "# Try to parse the JSON response\n",
    "try:\n",
    "    quiz_data = json.loads(quiz)\n",
    "except json.JSONDecodeError:\n",
    "    # If JSON parsing fails, try to extract JSON from the text\n",
    "    json_match = re.search(r'\\{.*\\}', quiz, re.DOTALL)\n",
    "    if json_match:\n",
    "        try:\n",
    "            quiz_data = json.loads(json_match.group())\n",
    "        except json.JSONDecodeError:\n",
    "            print(\"Failed to extract valid JSON from the response.\")\n",
    "            exit(1)\n",
    "    else:\n",
    "        print(\"No JSON-like structure found in the response.\")\n",
    "        exit(1)\n"
   ]
  },
  {
   "cell_type": "markdown",
   "metadata": {},
   "source": [
    "### Process the Quiz Data"
   ]
  },
  {
   "cell_type": "code",
   "execution_count": 14,
   "metadata": {},
   "outputs": [],
   "source": [
    "# Process the quiz data\n",
    "quiz_table_data = []\n",
    "\n",
    "if 'quiz' in quiz_data and 'questions' in quiz_data['quiz']:\n",
    "    for question in quiz_data['quiz']['questions']:\n",
    "        mcq = question.get('question', 'N/A')\n",
    "        options = \"|\".join([f\"{chr(97 + i)}: {option}\" for i, option in enumerate(question.get('options', []))])\n",
    "        correct = question.get('correct', 'N/A')\n",
    "        quiz_table_data.append({\"MCQ\": mcq, 'Choices': options, 'Correct': correct})\n",
    "else:\n",
    "    print(\"Unexpected JSON structure. Please check the model's output format.\")\n",
    "    exit(1)\n"
   ]
  },
  {
   "cell_type": "markdown",
   "metadata": {},
   "source": [
    "###  Save the Quiz Data to a CSV File"
   ]
  },
  {
   "cell_type": "code",
   "execution_count": 15,
   "metadata": {},
   "outputs": [
    {
     "name": "stdout",
     "output_type": "stream",
     "text": [
      "Quiz data saved to 'quiz.csv'\n"
     ]
    }
   ],
   "source": [
    "# Save the quiz data to a CSV file\n",
    "if quiz_table_data:\n",
    "    df = pd.DataFrame(quiz_table_data)\n",
    "    df.to_csv('quiz.csv', index=False)\n",
    "    print(\"Quiz data saved to 'quiz.csv'\")\n",
    "else:\n",
    "    print(\"No quiz data to save.\")\n"
   ]
  },
  {
   "cell_type": "markdown",
   "metadata": {},
   "source": [
    "### Print the Processed Quiz Data"
   ]
  },
  {
   "cell_type": "code",
   "execution_count": 16,
   "metadata": {},
   "outputs": [
    {
     "name": "stdout",
     "output_type": "stream",
     "text": [
      "\n",
      "Processed Quiz Data:\n",
      "Question: What is deep learning a subset of?\n",
      "Options: a: Artificial Intelligence|b: Machine Learning|c: Neural Networks|d: Computer Vision\n",
      "Correct Answer: Machine Learning\n",
      "\n",
      "Question: What is the primary function of each layer in a deep neural network?\n",
      "Options: a: To extract raw input features|b: To make predictions|c: To extract higher-level features from the raw input|d: To process data in a linear manner\n",
      "Correct Answer: To extract higher-level features from the raw input\n",
      "\n",
      "Question: What type of neural network is commonly used for image tasks?\n",
      "Options: a: Recurrent Neural Networks (RNNs)|b: Convolutional Neural Networks (CNNs)|c: Deep Neural Networks (DNNs)|d: Feedforward Neural Networks\n",
      "Correct Answer: Convolutional Neural Networks (CNNs)\n",
      "\n",
      "Question: What is the term used to describe the interconnected nodes in a neural network?\n",
      "Options: a: Neurons|b: Nodes|c: Connections|d: Layers\n",
      "Correct Answer: Neurons\n",
      "\n",
      "Question: What type of data is typically processed by Recurrent Neural Networks (RNNs)?\n",
      "Options: a: Image data|b: Sequential data|c: Audio data|d: Text data\n",
      "Correct Answer: Sequential data\n",
      "\n",
      "Question: What enables deep learning algorithms to automatically learn to perform tasks?\n",
      "Options: a: Large datasets and powerful computational resources|b: Small datasets and simple computational resources|c: Manual feature engineering|d: Rule-based systems\n",
      "Correct Answer: Large datasets and powerful computational resources\n",
      "\n",
      "Question: What is the primary advantage of using deep learning algorithms?\n",
      "Options: a: They are simple to implement|b: They require minimal data|c: They can automatically learn to perform tasks|d: They are only used for image recognition\n",
      "Correct Answer: They can automatically learn to perform tasks\n",
      "\n"
     ]
    }
   ],
   "source": [
    "# Print the processed quiz data\n",
    "print(\"\\nProcessed Quiz Data:\")\n",
    "for item in quiz_table_data:\n",
    "    print(f\"Question: {item['MCQ']}\")\n",
    "    print(f\"Options: {item['Choices']}\")\n",
    "    print(f\"Correct Answer: {item['Correct']}\")\n",
    "    print()\n"
   ]
  }
 ],
 "metadata": {
  "kernelspec": {
   "display_name": "venv",
   "language": "python",
   "name": "python3"
  },
  "language_info": {
   "codemirror_mode": {
    "name": "ipython",
    "version": 3
   },
   "file_extension": ".py",
   "mimetype": "text/x-python",
   "name": "python",
   "nbconvert_exporter": "python",
   "pygments_lexer": "ipython3",
   "version": "3.10.12"
  }
 },
 "nbformat": 4,
 "nbformat_minor": 2
}
